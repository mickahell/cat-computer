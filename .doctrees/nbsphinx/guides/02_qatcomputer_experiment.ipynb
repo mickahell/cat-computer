{
 "cells": [
  {
   "cell_type": "markdown",
   "id": "9913e799",
   "metadata": {},
   "source": [
    "# Guide: Run your experiment with the QatComputer\n",
    "\n",
    "QatComputer is an internal tool to the Docker image who aim to run your program directly inside the container."
   ]
  },
  {
   "cell_type": "markdown",
   "id": "fec16f06",
   "metadata": {},
   "source": [
    "## Start the container\n",
    "\n",
    "```bash\n",
    "docker run -d --rm --privileged --cgroupns=host \\\n",
    "    --name qatcomputer \\\n",
    "    -v /sys/fs/cgroup:/sys/fs/cgroup:rw \\\n",
    "    -v conf:/etc/qat-computer/conf \\\n",
    "    -v my_super_project:/etc/qat-computer/compute \\\n",
    "    qatcomputer:latest\n",
    "```\n",
    "\n",
    "In order to the tool works correctly you need :\n",
    "- (Optional) Be in priviledge mode and host network mode\n",
    "- (Optional) Link your cgroup\n",
    "- (Optional) Link your project conf\n",
    "- Link your project to the compute folder inside the image"
   ]
  },
  {
   "cell_type": "markdown",
   "id": "4da6417f",
   "metadata": {},
   "source": [
    "## Run your program\n",
    "\n",
    "Last step to run your experiment\n",
    "\n",
    "```bash\n",
    "docker exec --tty qatcomputer \\\n",
    "\tqat-computer compute -conf=conf_docker.yaml\n",
    "```"
   ]
  },
  {
   "cell_type": "markdown",
   "id": "e3b30557",
   "metadata": {},
   "source": [
    "## Configuration\n",
    "\n",
    "Parameters can be given as docker extra parameters. A configuration file is also available with every parameters :\n",
    "\n",
    "```yaml\n",
    "# log\n",
    "## 0 : Informational\n",
    "## 1 : Warning\n",
    "## 2 : Error --> Always\n",
    "## 3 : Critical --> Always\n",
    "loglevel: 0   # Optionnal\n",
    "debian_packages:   # Optionnal\n",
    "  - \"jq\"\n",
    "python_version: \"python3.10\"   # Optionnal\n",
    "compute_path: \"simple_python_repository\"   # Path inside the compute folder\n",
    "filename_to_execute: \"main.py\"\n",
    "requirements_file: \"requirements.txt\"   # Optionnal\n",
    "```"
   ]
  },
  {
   "cell_type": "markdown",
   "id": "afdfc33b",
   "metadata": {},
   "source": [
    "## References\n",
    "\n",
    "- Helper of the main endpoint :\n",
    "```bash\n",
    "Usage: /var/folders/1k/slg506kj1_s78lck13bgyvdm0000gn/T/go-build2129210398/b001/exe/qat-computer [OPTIONS] argument ...\n",
    "  -conf string\n",
    "        Path for the configuration yaml file.\n",
    "        The configuration file can contains any options presented.\n",
    "  -os-version\n",
    "        print os version.\n",
    "  -qiskit-version\n",
    "        print qiskit version.\n",
    "  -show-config\n",
    "        print config.\n",
    "  -version\n",
    "        print version.\n",
    "Sub-commands available :\n",
    " compute\n",
    "```\n",
    "\n",
    "- Helper of the compute endpoint :\n",
    "```bash\n",
    "Usage of compute:\n",
    "  -compute string\n",
    "        Path of the project to compute.\n",
    "  -conf string\n",
    "        Path for the configuration yaml file.\n",
    "        The configuration file can contains any options presented.\n",
    "  -debian-pkg string\n",
    "        List of debian package to install.\n",
    "  -file_exe string\n",
    "        Name of the file to compute the project. (default \"main.py\")\n",
    "  -log-level int\n",
    "        level of log to print :\n",
    "        0 : Informational (default value)\n",
    "        1 : Warning\n",
    "        2 : Error --> Always shown\n",
    "        3 : Critical --> Always shown\n",
    "  -python-version string\n",
    "        Version of python to use. (default \"python3\")\n",
    "  -requirements string\n",
    "        Name of the requirements file to setup the project.\n",
    "```"
   ]
  }
 ],
 "metadata": {
  "kernelspec": {
   "display_name": "Python 3 (ipykernel)",
   "language": "python",
   "name": "python3"
  },
  "language_info": {
   "codemirror_mode": {
    "name": "ipython",
    "version": 3
   },
   "file_extension": ".py",
   "mimetype": "text/x-python",
   "name": "python",
   "nbconvert_exporter": "python",
   "pygments_lexer": "ipython3",
   "version": "3.10.6"
  }
 },
 "nbformat": 4,
 "nbformat_minor": 5
}
