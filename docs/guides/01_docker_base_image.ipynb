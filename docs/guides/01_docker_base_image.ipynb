{
 "cells": [
  {
   "cell_type": "markdown",
   "id": "bdd22c03",
   "metadata": {},
   "source": [
    "# Guide: Docker base image\n",
    "\n",
    "In this guide we will show you how to use the docker image to start and use your container."
   ]
  },
  {
   "cell_type": "markdown",
   "id": "689153f3",
   "metadata": {},
   "source": [
    "## Build the image\n",
    "\n",
    "```bash\n",
    "docker build . --build-arg FULL=False --file docker/Dockerfile --tag qatcomputer:latest\n",
    "```\n",
    "\n",
    "The `FULL` is aim to install any external Qiskit's modules :\n",
    "- qiskit-nature\n",
    "- qiskit-finance\n",
    "- qiskit-optimization\n",
    "- qiskit-machine-learning"
   ]
  },
  {
   "cell_type": "code",
   "execution_count": null,
   "id": "71154cac",
   "metadata": {
    "vscode": {
     "languageId": "plaintext"
    }
   },
   "outputs": [],
   "source": []
  },
  {
   "cell_type": "markdown",
   "id": "37d2c93e",
   "metadata": {},
   "source": [
    "## Use in Dockerfile\n",
    "\n",
    "```bash\n",
    "FROM qatcomputer:latest \n",
    "```\n",
    "\n",
    "Using the image as base for your Dockerfile, avoid to re-install every packages need for Qiskt and base Quantum programming."
   ]
  },
  {
   "cell_type": "markdown",
   "id": "f6200c3a",
   "metadata": {},
   "source": [
    "## Pull from DockerHub\n",
    "\n",
    "The image is also available in classical and full version in the DockerHub.\n",
    "\n",
    "```bash\n",
    "docker pull mickahell/qatcomputer:latest\n",
    "docker pull mickahell/qatcomputer-full:latest\n",
    "```"
   ]
  }
 ],
 "metadata": {
  "kernelspec": {
   "display_name": "Python 3 (ipykernel)",
   "language": "python",
   "name": "python3"
  },
  "language_info": {
   "codemirror_mode": {
    "name": "ipython",
    "version": 3
   },
   "file_extension": ".py",
   "mimetype": "text/x-python",
   "name": "python",
   "nbconvert_exporter": "python",
   "pygments_lexer": "ipython3",
   "version": "3.10.6"
  }
 },
 "nbformat": 4,
 "nbformat_minor": 5
}
